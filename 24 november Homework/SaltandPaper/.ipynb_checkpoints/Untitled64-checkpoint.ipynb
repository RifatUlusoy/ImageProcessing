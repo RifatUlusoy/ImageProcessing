{
 "cells": [
  {
   "cell_type": "code",
   "execution_count": null,
   "id": "479bca16",
   "metadata": {},
   "outputs": [],
   "source": [
    "import random\n",
    "import cv2\n",
    " \n",
    "def add_noise(img):\n",
    "    row , col = img.shape\n",
    "    number_of_pixels = random.randint(300, 10000)\n",
    "    for i in range(number_of_pixels):\n",
    "       \n",
    "        y_coord=random.randint(0, row - 1)\n",
    "         \n",
    "        x_coord=random.randint(0, col - 1)\n",
    "         \n",
    "        img[y_coord][x_coord] = 255\n",
    "\n",
    "    number_of_pixels = random.randint(300 , 10000)\n",
    "    for i in range(number_of_pixels):\n",
    "       \n",
    "        y_coord=random.randint(0, row - 1)\n",
    "         \n",
    "        x_coord=random.randint(0, col - 1)\n",
    "         \n",
    "        img[y_coord][x_coord] = 0\n",
    "         \n",
    "    return img\n",
    " \n",
    "img = cv2.imread('lena.jpg',cv2.IMREAD_GRAYSCALE) \n",
    "cv2.imwrite('salt-and-pepper-lena.jpg',add_noise(img))\n",
    "\n",
    "cv2.imshow(\"lena.jpg\",img)\n",
    "cv2.waitKey(0)"
   ]
  },
  {
   "cell_type": "code",
   "execution_count": null,
   "id": "339627cf",
   "metadata": {},
   "outputs": [],
   "source": []
  }
 ],
 "metadata": {
  "kernelspec": {
   "display_name": "Python 3 (ipykernel)",
   "language": "python",
   "name": "python3"
  },
  "language_info": {
   "codemirror_mode": {
    "name": "ipython",
    "version": 3
   },
   "file_extension": ".py",
   "mimetype": "text/x-python",
   "name": "python",
   "nbconvert_exporter": "python",
   "pygments_lexer": "ipython3",
   "version": "3.9.7"
  }
 },
 "nbformat": 4,
 "nbformat_minor": 5
}
