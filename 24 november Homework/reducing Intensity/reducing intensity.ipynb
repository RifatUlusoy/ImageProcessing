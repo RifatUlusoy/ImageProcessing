{
 "cells": [
  {
   "cell_type": "code",
   "execution_count": 8,
   "id": "02d58f62",
   "metadata": {},
   "outputs": [],
   "source": [
    "import cv2\n",
    "import numpy as np\n",
    "import pandas as pd\n",
    "import matplotlib.pyplot as plt\n",
    "%matplotlib inline\n"
   ]
  },
  {
   "cell_type": "code",
   "execution_count": 9,
   "id": "f7eb1500",
   "metadata": {},
   "outputs": [],
   "source": [
    "img1=cv2.imread(\"brain.png\",0)\n",
    "intensity_level=10.666666666666666666666666666667\n",
    "current_compression=256/intensity_level\n",
    "img1_reduced=np.uint8(np.floor(np.double(img1)/intensity_level))\n",
    "l=current_compression-1\n",
    "norm_image=cv2.normalize(img1_reduced,None,0,255,norm_type=cv2.NORM_MINMAX)\n",
    "cv2.imshow(\"brain.png\",norm_image)\n",
    "cv2.waitKey(0)\n",
    "k=k+1"
   ]
  },
  {
   "cell_type": "code",
   "execution_count": 6,
   "id": "f637c75e",
   "metadata": {},
   "outputs": [],
   "source": [
    "img1=cv2.imread(\"brain.png\",0)\n",
    "k=4\n",
    "intensity_level=2**k\n",
    "current_compression=256/intensity_level\n",
    "img1_reduced=np.uint8(np.floor(np.double(img1)/intensity_level))\n",
    "l=current_compression-1\n",
    "norm_image=cv2.normalize(img1_reduced,None,0,255,norm_type=cv2.NORM_MINMAX)\n",
    "cv2.imshow(\"brain.png\",norm_image)\n",
    "cv2.waitKey(0)\n",
    "k=k+1"
   ]
  },
  {
   "cell_type": "code",
   "execution_count": 7,
   "id": "f0de174b",
   "metadata": {},
   "outputs": [],
   "source": [
    "img1=cv2.imread(\"brain.png\",0)\n",
    "k=5\n",
    "intensity_level=2**k\n",
    "current_compression=256/intensity_level\n",
    "img1_reduced=np.uint8(np.floor(np.double(img1)/intensity_level))\n",
    "l=current_compression-1\n",
    "norm_image=cv2.normalize(img1_reduced,None,0,255,norm_type=cv2.NORM_MINMAX)\n",
    "cv2.imshow(\"brain.png\",norm_image)\n",
    "cv2.waitKey(0)\n",
    "k=k+1"
   ]
  },
  {
   "cell_type": "code",
   "execution_count": null,
   "id": "192d42af",
   "metadata": {},
   "outputs": [],
   "source": []
  }
 ],
 "metadata": {
  "kernelspec": {
   "display_name": "Python 3 (ipykernel)",
   "language": "python",
   "name": "python3"
  },
  "language_info": {
   "codemirror_mode": {
    "name": "ipython",
    "version": 3
   },
   "file_extension": ".py",
   "mimetype": "text/x-python",
   "name": "python",
   "nbconvert_exporter": "python",
   "pygments_lexer": "ipython3",
   "version": "3.9.7"
  }
 },
 "nbformat": 4,
 "nbformat_minor": 5
}
