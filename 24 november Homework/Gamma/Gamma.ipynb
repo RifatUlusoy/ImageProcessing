{
 "cells": [
  {
   "cell_type": "code",
   "execution_count": 15,
   "id": "77c60b93",
   "metadata": {},
   "outputs": [
    {
     "name": "stderr",
     "output_type": "stream",
     "text": [
      "C:\\Users\\RFAT~1\\AppData\\Local\\Temp/ipykernel_376/3339842938.py:9: RuntimeWarning: divide by zero encountered in log\n",
      "  log_transformed = c * np.log(1 + img)\n"
     ]
    },
    {
     "data": {
      "text/plain": [
       "-1"
      ]
     },
     "execution_count": 15,
     "metadata": {},
     "output_type": "execute_result"
    }
   ],
   "source": [
    "import cv2\n",
    "import numpy as np\n",
    "  \n",
    "# Open the image.\n",
    "img = cv2.imread('sample.jpg')\n",
    "  \n",
    "# Apply log transform.\n",
    "c = 255/(np.log(1 + np.max(img)))\n",
    "log_transformed = c * np.log(1 + img)\n",
    "  \n",
    "# Specify the data type.\n",
    "log_transformed = np.array(log_transformed, dtype = np.uint8)\n",
    "  \n",
    "# Save the output.\n",
    "cv2.imwrite('log_transformed.jpg', log_transformed)\n",
    "cv2.imshow(\"sample.jpg\",img)\n",
    "cv2.waitKey(0)"
   ]
  },
  {
   "cell_type": "code",
   "execution_count": 20,
   "id": "022eae1b",
   "metadata": {},
   "outputs": [],
   "source": [
    "img = cv2.imread('sample.jpg')\n",
    "  \n",
    "# Trying 4 gamma values.\n",
    "for gamma in [3.0,4.0,5.0]:\n",
    "      \n",
    "    # Apply gamma correction.\n",
    "    gamma_corrected = np.array(255*(img / 255) ** gamma, dtype = 'uint8')\n",
    "  \n",
    "    # Save edited images.\n",
    "    cv2.imwrite('gamma_transformed'+str(gamma)+'.jpg', gamma_corrected)\n",
    "    cv2.imshow(\"sample.jpg\",gamma_corrected)\n",
    "    cv2.waitKey(0)\n"
   ]
  },
  {
   "cell_type": "code",
   "execution_count": null,
   "id": "87117cf0",
   "metadata": {},
   "outputs": [],
   "source": []
  }
 ],
 "metadata": {
  "kernelspec": {
   "display_name": "Python 3 (ipykernel)",
   "language": "python",
   "name": "python3"
  },
  "language_info": {
   "codemirror_mode": {
    "name": "ipython",
    "version": 3
   },
   "file_extension": ".py",
   "mimetype": "text/x-python",
   "name": "python",
   "nbconvert_exporter": "python",
   "pygments_lexer": "ipython3",
   "version": "3.9.7"
  }
 },
 "nbformat": 4,
 "nbformat_minor": 5
}
