{
 "cells": [
  {
   "cell_type": "code",
   "execution_count": 21,
   "id": "897826dc",
   "metadata": {},
   "outputs": [
    {
     "name": "stderr",
     "output_type": "stream",
     "text": [
      "C:\\Users\\RFAT~1\\AppData\\Local\\Temp/ipykernel_2556/423973257.py:10: RuntimeWarning: divide by zero encountered in log\n",
      "  c = (np.log(image+1)/ (np.log(1 + np.max(image))))*255\n"
     ]
    },
    {
     "data": {
      "text/plain": [
       "-1"
      ]
     },
     "execution_count": 21,
     "metadata": {},
     "output_type": "execute_result"
    }
   ],
   "source": [
    "import cv2\n",
    "import numpy as np\n",
    "\n",
    "   \n",
    "# Read an image\n",
    "image = cv2.imread('gri-tas-.jpg')\n",
    "cv2.imshow('gri-tas-.jpg',image)\n",
    "cv2.waitKey(0)\n",
    "# Apply log transformation method\n",
    "c = (np.log(image+1)/ (np.log(1 + np.max(image))))*255 \n",
    "# Specify the data type so that\n",
    "# float value will be converted to int\n",
    "c = np.array(c, dtype = np.uint8)\n",
    "   \n",
    "# Display both images\n",
    "\n",
    "cv2.imshow('gri-tas-.jpg',c)\n",
    "cv2.waitKey(0)\n"
   ]
  },
  {
   "cell_type": "code",
   "execution_count": null,
   "id": "7e6c7b7e",
   "metadata": {},
   "outputs": [],
   "source": []
  }
 ],
 "metadata": {
  "kernelspec": {
   "display_name": "Python 3 (ipykernel)",
   "language": "python",
   "name": "python3"
  },
  "language_info": {
   "codemirror_mode": {
    "name": "ipython",
    "version": 3
   },
   "file_extension": ".py",
   "mimetype": "text/x-python",
   "name": "python",
   "nbconvert_exporter": "python",
   "pygments_lexer": "ipython3",
   "version": "3.9.7"
  }
 },
 "nbformat": 4,
 "nbformat_minor": 5
}
