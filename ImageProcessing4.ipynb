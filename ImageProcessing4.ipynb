{
 "cells": [
  {
   "cell_type": "code",
   "execution_count": null,
   "id": "a88b29e8",
   "metadata": {},
   "outputs": [],
   "source": [
    "# import sys\n",
    "import cv2 as cv\n",
    "import numpy as np\n",
    "\n",
    "\n",
    "image=cv2.imread(\"image.png\")\n",
    "\n",
    "kernel1=np.ones((5,5),np.float32)/60\n",
    "\n",
    "img=cv2.filter2D(src=image,ddepth=-1,kernel=kernel1)\n",
    "\n",
    "cv2.imshow(\"Original\",image)\n",
    "cv2.imshow(\"Kernel Blur\",image)\n",
    "\n",
    "cv2.waitKey()\n",
    "cv2.destroyAllWindows()"
   ]
  },
  {
   "cell_type": "code",
   "execution_count": null,
   "id": "c0769c74",
   "metadata": {},
   "outputs": [],
   "source": [
    "path=r'salad.jpg'\n",
    "img=cv2.imread(path)\n",
    "\n",
    "im1=cv2.blur(img,(5,5))\n",
    "im2=cv2.boxFilter(img,-1,(2,2),normalize=True)\n",
    "\n",
    "cv2.imshow('image',np.hstack((im1,im2)))\n",
    "cv2.waitKey()\n",
    "cv2.destroyAllWindows()\n",
    "cv2.waitKey(1)"
   ]
  },
  {
   "cell_type": "code",
   "execution_count": null,
   "id": "bdebe1a2",
   "metadata": {},
   "outputs": [],
   "source": [
    "img=cv2.imread(\"brain1.jpg\")\n",
    "median=cv2.medianBlur(img,5)\n",
    "compare=np.concatenate((img,median),axis=1)\n",
    "\n",
    "cv2.imshow(\"img\",compare)\n",
    "cv2.waitKey(0)\n",
    "cv2.destroyAllWindows()   "
   ]
  },
  {
   "cell_type": "code",
   "execution_count": null,
   "id": "1b3f38e9",
   "metadata": {},
   "outputs": [],
   "source": [
    "def main(argv):\n",
    "    ddepth=cv.CV_165\n",
    "    kernel_size=3\n",
    "    window_name=\"Laplace Demo\"\n",
    "    \n",
    "    imageName=argv[0] if len(argv) >0 else \"lena.jpg\"\n",
    "    \n",
    "    src=cv.imread(cv.samples.findFile(imageName),cv.IMREAD_COLOR)\n",
    "    \n",
    "    if src is None:\n",
    "        print(\"Error opening image\")\n",
    "        print(\"Program Arguments:[İmage_name -- default lena.jpg]\")\n",
    "        return -1\n",
    "    \n",
    "    src=cv.GaussianBlur(src,(3,3),0)\n",
    "    \n",
    "    src_gray=cv.cvtColor(src,cv.COLOR_BGR2GRAY)\n",
    "    \n",
    "    cv.nameWindow(window_name,cv.WINDOW_AUTOSIZE)\n",
    "    \n",
    "    dst=cv.Laplacian(src_gray,ddepth,ksize=kernel_size)\n",
    "    \n",
    "    abs_dst=cv.convertScaleAbs(dst)\n",
    "    \n",
    "    cv.imshow(window_name,abs_dst)\n",
    "    cv.waitKey(0)\n",
    "    \n",
    "    return 0\n",
    "\n",
    "if __name__==\"__main__\":\n",
    "    main(sys.argv[1:])"
   ]
  }
 ],
 "metadata": {
  "kernelspec": {
   "display_name": "Python 3 (ipykernel)",
   "language": "python",
   "name": "python3"
  },
  "language_info": {
   "codemirror_mode": {
    "name": "ipython",
    "version": 3
   },
   "file_extension": ".py",
   "mimetype": "text/x-python",
   "name": "python",
   "nbconvert_exporter": "python",
   "pygments_lexer": "ipython3",
   "version": "3.9.7"
  }
 },
 "nbformat": 4,
 "nbformat_minor": 5
}
