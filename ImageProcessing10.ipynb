{
 "cells": [
  {
   "cell_type": "code",
   "execution_count": 3,
   "id": "bfdcfb62",
   "metadata": {},
   "outputs": [
    {
     "data": {
      "text/plain": [
       "-1"
      ]
     },
     "execution_count": 3,
     "metadata": {},
     "output_type": "execute_result"
    }
   ],
   "source": [
    "#erosion-dilation\n",
    "import cv2\n",
    "import numpy as np\n",
    "\n",
    "img = cv2.imread(\"1.jpg\",0)\n",
    "kernel=np.ones((5,5),np.uint8)\n",
    "\n",
    "img_erosion=cv2.erode(img,kernel,iterations=1)\n",
    "img_dilation=cv2.dilate(img,kernel,iterations=1)\n",
    "\n",
    "cv2.imshow(\"Input\",img)\n",
    "cv2.imshow(\"Erosion\",img_erosion)\n",
    "cv2.imshow(\"Dilation\",img_dilation)\n",
    "\n",
    "cv2.waitKey(0)\n"
   ]
  },
  {
   "cell_type": "code",
   "execution_count": 8,
   "id": "0d022b91",
   "metadata": {},
   "outputs": [
    {
     "data": {
      "text/plain": [
       "-1"
      ]
     },
     "execution_count": 8,
     "metadata": {},
     "output_type": "execute_result"
    }
   ],
   "source": [
    "#opening\n",
    "img=cv2.imread(\"isim.png\",0)\n",
    "cv2.imshow(\"Original\",img)\n",
    "cv2.waitKey(0)\n",
    "\n",
    "kernel=np.ones((5,5),dtype=np.uint8)\n",
    "\n",
    "whiteNoise=np.random.randint(0,2,size=img.shape[:2])\n",
    "whiteNoise=whiteNoise*255\n",
    "noise_img=whiteNoise+img\n",
    "\n",
    "opening=cv2.morphologyEx(noise_img.astype(np.float32),cv2.MORPH_OPEN,kernel)\n",
    "cv2.imshow(\"Opening\",opening)\n",
    "cv2.waitKey(0)"
   ]
  },
  {
   "cell_type": "code",
   "execution_count": 7,
   "id": "781d4962",
   "metadata": {},
   "outputs": [
    {
     "data": {
      "text/plain": [
       "-1"
      ]
     },
     "execution_count": 7,
     "metadata": {},
     "output_type": "execute_result"
    }
   ],
   "source": [
    "#opening\n",
    "img=cv2.imread(\"isim.png\",0)\n",
    "cv2.imshow(\"Original\",img)\n",
    "cv2.waitKey(0)\n",
    "\n",
    "kernel=np.ones((5,5),dtype=np.uint8)\n",
    "\n",
    "blackNoise=np.random.randint(0,2,size=img.shape[:2])\n",
    "blackNoise=blackNoise*-255\n",
    "noise_img=blackNoise+img\n",
    "noise_img[noise_img<=-245]=0\n",
    "\n",
    "closing=cv2.morphologyEx(noise_img.astype(np.float32),cv2.MORPH_OPEN,kernel)\n",
    "cv2.imshow(\"Closing\",closing)\n",
    "cv2.waitKey(0)"
   ]
  },
  {
   "cell_type": "code",
   "execution_count": null,
   "id": "5de89b82",
   "metadata": {},
   "outputs": [],
   "source": []
  }
 ],
 "metadata": {
  "kernelspec": {
   "display_name": "Python 3 (ipykernel)",
   "language": "python",
   "name": "python3"
  },
  "language_info": {
   "codemirror_mode": {
    "name": "ipython",
    "version": 3
   },
   "file_extension": ".py",
   "mimetype": "text/x-python",
   "name": "python",
   "nbconvert_exporter": "python",
   "pygments_lexer": "ipython3",
   "version": "3.9.7"
  }
 },
 "nbformat": 4,
 "nbformat_minor": 5
}
