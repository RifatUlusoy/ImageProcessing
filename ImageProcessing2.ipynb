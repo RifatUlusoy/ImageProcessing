{
 "cells": [
  {
   "cell_type": "code",
   "execution_count": 2,
   "id": "300aa20e",
   "metadata": {},
   "outputs": [
    {
     "name": "stdout",
     "output_type": "stream",
     "text": [
      "151875\n",
      "uint8\n",
      "(225, 225, 3)\n"
     ]
    }
   ],
   "source": [
    "#Reading and writing images in Python\n",
    "import cv2\n",
    "import numpy as np\n",
    "import matplotlib.pyplot as plt\n",
    "\n",
    "resim1=cv2.imread(\"brain.jpg\")\n",
    "cv2.imshow(\"brain\",resim1)\n",
    "\n",
    "print(resim1.size)\n",
    "print(resim1.dtype)\n",
    "print(resim1.shape)\n",
    "\n",
    "cv2.waitKey(0)\n",
    "cv2.destroyAllWindows()"
   ]
  },
  {
   "cell_type": "code",
   "execution_count": 3,
   "id": "f7243fdf",
   "metadata": {},
   "outputs": [
    {
     "data": {
      "image/png": "[encoded data removed]",
      "text/plain": [
       "<Figure size 720x288 with 1 Axes>"
      ]
     },
     "metadata": {
      "needs_background": "light"
     },
     "output_type": "display_data"
    }
   ],
   "source": [
    "#How to create a matrix (or image)? Density picture\n",
    "row=256\n",
    "col=256\n",
    "img=np.zeros((row,col))\n",
    "img[200:240,:]=0.5\n",
    "img[:,100:105]=1\n",
    "plt.figure(figsize=(10,4))\n",
    "plt.imshow(img)\n",
    "plt.show()"
   ]
  },
  {
   "cell_type": "code",
   "execution_count": 4,
   "id": "fd80cd76",
   "metadata": {},
   "outputs": [
    {
     "ename": "SyntaxError",
     "evalue": "EOF while scanning triple-quoted string literal (Temp/ipykernel_13824/278931355.py, line 4)",
     "output_type": "error",
     "traceback": [
      "\u001b[1;36m  File \u001b[1;32m\"C:\\Users\\RFAT~1\\AppData\\Local\\Temp/ipykernel_13824/278931355.py\"\u001b[1;36m, line \u001b[1;32m4\u001b[0m\n\u001b[1;33m    cv2.imshow(\"Binary\",img)\u001b[0m\n\u001b[1;37m                            \n^\u001b[0m\n\u001b[1;31mSyntaxError\u001b[0m\u001b[1;31m:\u001b[0m EOF while scanning triple-quoted string literal\n"
     ]
    }
   ],
   "source": [
    "'''height=512\n",
    "width=512\n",
    "img=np.random.randint(255,size=(height,width,1),dtype=np.uint8)\n",
    "cv2.imshow(\"Binary\",img)"
   ]
  },
  {
   "cell_type": "code",
   "execution_count": 7,
   "id": "754936f3",
   "metadata": {},
   "outputs": [
    {
     "name": "stdout",
     "output_type": "stream",
     "text": [
      "[1 3 5 7 9]\n"
     ]
    }
   ],
   "source": [
    "v=[1,3,5,7,9]\n",
    "w=np.transpose(v)\n",
    "print(w)"
   ]
  },
  {
   "cell_type": "code",
   "execution_count": 8,
   "id": "26c1bfda",
   "metadata": {},
   "outputs": [
    {
     "data": {
      "text/plain": [
       "[3, 5]"
      ]
     },
     "execution_count": 8,
     "metadata": {},
     "output_type": "execute_result"
    }
   ],
   "source": [
    "v[1:3]"
   ]
  },
  {
   "cell_type": "code",
   "execution_count": 9,
   "id": "9557c22d",
   "metadata": {},
   "outputs": [
    {
     "data": {
      "text/plain": [
       "[7, 9]"
      ]
     },
     "execution_count": 9,
     "metadata": {},
     "output_type": "execute_result"
    }
   ],
   "source": [
    "v[3:]"
   ]
  },
  {
   "cell_type": "code",
   "execution_count": 16,
   "id": "3cc0c418",
   "metadata": {},
   "outputs": [
    {
     "data": {
      "text/plain": [
       "[1, 5, 9]"
      ]
     },
     "execution_count": 16,
     "metadata": {},
     "output_type": "execute_result"
    }
   ],
   "source": [
    "v[0::2]"
   ]
  },
  {
   "cell_type": "code",
   "execution_count": 17,
   "id": "3c17ed56",
   "metadata": {},
   "outputs": [
    {
     "data": {
      "text/plain": [
       "[9, 5, 1]"
      ]
     },
     "execution_count": 17,
     "metadata": {},
     "output_type": "execute_result"
    }
   ],
   "source": [
    "v[::-2]"
   ]
  },
  {
   "cell_type": "code",
   "execution_count": 19,
   "id": "63f33b2e",
   "metadata": {},
   "outputs": [],
   "source": [
    "A=[[1,2,3],\n",
    "  [4,5,6],\n",
    "  [7,8,9],\n",
    "  [0,-1,-2]]"
   ]
  },
  {
   "cell_type": "code",
   "execution_count": 24,
   "id": "833e968c",
   "metadata": {},
   "outputs": [
    {
     "name": "stdout",
     "output_type": "stream",
     "text": [
      "A= [[1, 2, 3], [4, 5, 6], [7, 8, 9], [0, -1, -2]]\n"
     ]
    }
   ],
   "source": [
    "print(\"A=\",A)"
   ]
  },
  {
   "cell_type": "code",
   "execution_count": 28,
   "id": "24470b9d",
   "metadata": {},
   "outputs": [
    {
     "name": "stdout",
     "output_type": "stream",
     "text": [
      "A[1]= [4, 5, 6]\n",
      "A[2][1]= 8\n"
     ]
    }
   ],
   "source": [
    "print(\"A[1]=\",A[1])\n",
    "print(\"A[2][1]=\",A[2][1])"
   ]
  },
  {
   "cell_type": "code",
   "execution_count": 46,
   "id": "3b2cea19",
   "metadata": {},
   "outputs": [
    {
     "name": "stdout",
     "output_type": "stream",
     "text": [
      "[[ 1  2  3]\n",
      " [ 4  5  6]\n",
      " [ 7  8  9]\n",
      " [ 0 -1 -2]]\n"
     ]
    }
   ],
   "source": [
    "#creating a matrix with numpy\n",
    "a=np.array([[1,2,3],[4,5,6],[7,8,9],[0,-1,-2]])\n",
    "print(a)\n",
    "b=\"\""
   ]
  },
  {
   "cell_type": "code",
   "execution_count": 47,
   "id": "9fab7a35",
   "metadata": {},
   "outputs": [
    {
     "data": {
      "text/plain": [
       "array([ 3,  6,  9, -2])"
      ]
     },
     "execution_count": 47,
     "metadata": {},
     "output_type": "execute_result"
    }
   ],
   "source": [
    "a[:,2]"
   ]
  },
  {
   "cell_type": "code",
   "execution_count": 48,
   "id": "52823ada",
   "metadata": {},
   "outputs": [],
   "source": [
    "a[:,2]=1"
   ]
  },
  {
   "cell_type": "code",
   "execution_count": 49,
   "id": "e779554f",
   "metadata": {},
   "outputs": [
    {
     "data": {
      "text/plain": [
       "array([[ 1,  2,  1],\n",
       "       [ 4,  5,  1],\n",
       "       [ 7,  8,  1],\n",
       "       [ 0, -1,  1]])"
      ]
     },
     "execution_count": 49,
     "metadata": {},
     "output_type": "execute_result"
    }
   ],
   "source": [
    "a"
   ]
  },
  {
   "cell_type": "code",
   "execution_count": 50,
   "id": "5a899533",
   "metadata": {},
   "outputs": [],
   "source": [
    "b=a\n",
    "b[:,2]=0"
   ]
  },
  {
   "cell_type": "code",
   "execution_count": 52,
   "id": "827c6b7d",
   "metadata": {},
   "outputs": [
    {
     "data": {
      "text/plain": [
       "array([[ 1,  2,  0],\n",
       "       [ 4,  5,  0],\n",
       "       [ 7,  8,  0],\n",
       "       [ 0, -1,  0]])"
      ]
     },
     "execution_count": 52,
     "metadata": {},
     "output_type": "execute_result"
    }
   ],
   "source": [
    "b"
   ]
  },
  {
   "cell_type": "code",
   "execution_count": 58,
   "id": "d90e49b0",
   "metadata": {},
   "outputs": [],
   "source": [
    "C=np.array([[1,1,2],[3,5,3],[5,6,9]])\n",
    "s=sum(C[:])\n",
    "c=\"\"\n",
    "c=sum(C)"
   ]
  },
  {
   "cell_type": "code",
   "execution_count": 59,
   "id": "e4d104e8",
   "metadata": {},
   "outputs": [
    {
     "data": {
      "text/plain": [
       "array([ 9, 12, 14])"
      ]
     },
     "execution_count": 59,
     "metadata": {},
     "output_type": "execute_result"
    }
   ],
   "source": [
    "s"
   ]
  },
  {
   "cell_type": "code",
   "execution_count": 60,
   "id": "ea280359",
   "metadata": {},
   "outputs": [
    {
     "data": {
      "text/plain": [
       "array([ 9, 12, 14])"
      ]
     },
     "execution_count": 60,
     "metadata": {},
     "output_type": "execute_result"
    }
   ],
   "source": [
    "c\n"
   ]
  },
  {
   "cell_type": "code",
   "execution_count": null,
   "id": "d8b56292",
   "metadata": {},
   "outputs": [],
   "source": []
  }
 ],
 "metadata": {
  "kernelspec": {
   "display_name": "Python 3 (ipykernel)",
   "language": "python",
   "name": "python3"
  },
  "language_info": {
   "codemirror_mode": {
    "name": "ipython",
    "version": 3
   },
   "file_extension": ".py",
   "mimetype": "text/x-python",
   "name": "python",
   "nbconvert_exporter": "python",
   "pygments_lexer": "ipython3",
   "version": "3.9.7"
  }
 },
 "nbformat": 4,
 "nbformat_minor": 5
}
