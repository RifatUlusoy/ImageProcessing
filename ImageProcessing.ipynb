{
 "cells": [
  {
   "cell_type": "code",
   "execution_count": 118,
   "id": "23886c73",
   "metadata": {},
   "outputs": [
    {
     "name": "stdout",
     "output_type": "stream",
     "text": [
      "[[0. 0. 0. 0.]\n",
      " [0. 0. 0. 0.]]\n"
     ]
    }
   ],
   "source": [
    "import numpy as np\n",
    "import math\n",
    "import numpy.matlib \n",
    "from numpy.linalg import inv\n",
    "array=np.zeros((2,4))\n",
    "print(array)"
   ]
  },
  {
   "cell_type": "code",
   "execution_count": 119,
   "id": "48c91498",
   "metadata": {},
   "outputs": [
    {
     "name": "stdout",
     "output_type": "stream",
     "text": [
      "[[1. 1. 1. 1.]]\n"
     ]
    }
   ],
   "source": [
    "array=np.ones((1,4))\n",
    "print(array)"
   ]
  },
  {
   "cell_type": "code",
   "execution_count": 120,
   "id": "2e787aee",
   "metadata": {},
   "outputs": [
    {
     "data": {
      "text/plain": [
       "array([[0, 0],\n",
       "       [0, 0]])"
      ]
     },
     "execution_count": 120,
     "metadata": {},
     "output_type": "execute_result"
    }
   ],
   "source": [
    "np.eye(2,dtype=int,k=3)"
   ]
  },
  {
   "cell_type": "code",
   "execution_count": 121,
   "id": "53b228f2",
   "metadata": {},
   "outputs": [
    {
     "data": {
      "text/plain": [
       "array([[ 1.24077492, -0.89271693],\n",
       "       [-1.53447875,  0.22160022],\n",
       "       [ 0.00423834, -0.46097276]])"
      ]
     },
     "execution_count": 121,
     "metadata": {},
     "output_type": "execute_result"
    }
   ],
   "source": [
    "np.random.randn(3,2)"
   ]
  },
  {
   "cell_type": "code",
   "execution_count": 122,
   "id": "18ba9b6b",
   "metadata": {},
   "outputs": [
    {
     "data": {
      "text/plain": [
       "matrix([[75]])"
      ]
     },
     "execution_count": 122,
     "metadata": {},
     "output_type": "execute_result"
    }
   ],
   "source": [
    "np.matrix(25)*3"
   ]
  },
  {
   "cell_type": "code",
   "execution_count": 123,
   "id": "48f29c67",
   "metadata": {},
   "outputs": [
    {
     "data": {
      "text/plain": [
       "0.8939966636005579"
      ]
     },
     "execution_count": 123,
     "metadata": {},
     "output_type": "execute_result"
    }
   ],
   "source": [
    "math.sin(90)"
   ]
  },
  {
   "cell_type": "code",
   "execution_count": 124,
   "id": "5c1b2c3f",
   "metadata": {},
   "outputs": [
    {
     "data": {
      "text/plain": [
       "0.5253219888177297"
      ]
     },
     "execution_count": 124,
     "metadata": {},
     "output_type": "execute_result"
    }
   ],
   "source": [
    "math.cos(45)"
   ]
  },
  {
   "cell_type": "code",
   "execution_count": 125,
   "id": "8566144a",
   "metadata": {},
   "outputs": [
    {
     "data": {
      "text/plain": [
       "7.0"
      ]
     },
     "execution_count": 125,
     "metadata": {},
     "output_type": "execute_result"
    }
   ],
   "source": [
    "math.sqrt(49)\n"
   ]
  },
  {
   "cell_type": "code",
   "execution_count": 126,
   "id": "27bf62a4",
   "metadata": {},
   "outputs": [
    {
     "name": "stdout",
     "output_type": "stream",
     "text": [
      "[[ 1.12216835  0.0189497 ]\n",
      " [-0.82872992  0.3033478 ]]\n",
      "[[ 1.74611792  1.36109004]\n",
      " [-1.59460935  0.39026061]]\n"
     ]
    },
    {
     "data": {
      "text/plain": [
       "array([[ 1.92922089,  1.53476749],\n",
       "       [-1.9307814 , -1.00959134]])"
      ]
     },
     "execution_count": 126,
     "metadata": {},
     "output_type": "execute_result"
    }
   ],
   "source": [
    "x=np.random.randn(2,2)\n",
    "print(x)\n",
    "y=np.random.randn(2,2)\n",
    "print(y)\n",
    "np.dot(x,y)"
   ]
  },
  {
   "cell_type": "code",
   "execution_count": 127,
   "id": "7fa78c7c",
   "metadata": {},
   "outputs": [
    {
     "data": {
      "text/plain": [
       "array([[ 1.12216835, -0.82872992],\n",
       "       [ 0.0189497 ,  0.3033478 ]])"
      ]
     },
     "execution_count": 127,
     "metadata": {},
     "output_type": "execute_result"
    }
   ],
   "source": [
    "np.transpose(x)"
   ]
  },
  {
   "cell_type": "code",
   "execution_count": 128,
   "id": "a5ba92f4",
   "metadata": {},
   "outputs": [
    {
     "data": {
      "text/plain": [
       "25"
      ]
     },
     "execution_count": 128,
     "metadata": {},
     "output_type": "execute_result"
    }
   ],
   "source": [
    "np.multiply(5,5)"
   ]
  },
  {
   "cell_type": "code",
   "execution_count": 129,
   "id": "372286a7",
   "metadata": {},
   "outputs": [
    {
     "name": "stdout",
     "output_type": "stream",
     "text": [
      "[[ 0  1  2  3  4]\n",
      " [ 5  6  7  8  9]\n",
      " [10 11 12 13 14]\n",
      " [15 16 17 18 19]] \n",
      "\n",
      "[0 1 2 3 4]\n"
     ]
    },
    {
     "data": {
      "text/plain": [
       "array([[ 0,  1,  4,  9, 16],\n",
       "       [ 0,  6, 14, 24, 36],\n",
       "       [ 0, 11, 24, 39, 56],\n",
       "       [ 0, 16, 34, 54, 76]])"
      ]
     },
     "execution_count": 129,
     "metadata": {},
     "output_type": "execute_result"
    }
   ],
   "source": [
    "x1=np.arange(20).reshape((4,5))\n",
    "print(x1,\"\\n\")\n",
    "x2=np.arange(5)\n",
    "print(x2)\n",
    "np.multiply(x1,x2)"
   ]
  },
  {
   "cell_type": "code",
   "execution_count": 130,
   "id": "01e3b97b",
   "metadata": {},
   "outputs": [
    {
     "data": {
      "text/plain": [
       "array([ 5, 11])"
      ]
     },
     "execution_count": 130,
     "metadata": {},
     "output_type": "execute_result"
    }
   ],
   "source": [
    "x3=[[1,2],\n",
    "    [3,4]]\n",
    "x4=[1,2]\n",
    "np.matmul(x3,x4)"
   ]
  },
  {
   "cell_type": "code",
   "execution_count": 131,
   "id": "829febe0",
   "metadata": {},
   "outputs": [
    {
     "name": "stdout",
     "output_type": "stream",
     "text": [
      "[[0 1 2 3]\n",
      " [4 5 6 7]] \n",
      "\n",
      "[0 1 2 3]\n"
     ]
    },
    {
     "data": {
      "text/plain": [
       "array([[ 0,  2,  4,  6],\n",
       "       [ 4,  6,  8, 10]])"
      ]
     },
     "execution_count": 131,
     "metadata": {},
     "output_type": "execute_result"
    }
   ],
   "source": [
    "a=np.arange(0,8,1).reshape(2,4)\n",
    "print(a,\"\\n\")\n",
    "b=np.arange(4)\n",
    "print(b)\n",
    "np.add(a,b)"
   ]
  },
  {
   "cell_type": "code",
   "execution_count": 132,
   "id": "ab95b8dd",
   "metadata": {},
   "outputs": [
    {
     "name": "stdout",
     "output_type": "stream",
     "text": [
      "[[0 1 2 3]\n",
      " [4 5 6 7]] \n",
      "\n",
      "[0 1 2 3]\n"
     ]
    },
    {
     "data": {
      "text/plain": [
       "array([[0, 0, 0, 0],\n",
       "       [4, 4, 4, 4]])"
      ]
     },
     "execution_count": 132,
     "metadata": {},
     "output_type": "execute_result"
    }
   ],
   "source": [
    "a=np.arange(0,8,1).reshape(2,4)\n",
    "print(a,\"\\n\")\n",
    "b=np.arange(4)\n",
    "print(b)\n",
    "np.subtract(a,b)"
   ]
  },
  {
   "cell_type": "code",
   "execution_count": 133,
   "id": "9957cf6d",
   "metadata": {},
   "outputs": [
    {
     "name": "stdout",
     "output_type": "stream",
     "text": [
      "[[0 1 2 3]\n",
      " [4 5 6 7]] \n",
      "\n",
      "[0 1 2 3]\n"
     ]
    },
    {
     "name": "stderr",
     "output_type": "stream",
     "text": [
      "C:\\Users\\RFAT~1\\AppData\\Local\\Temp/ipykernel_5912/268672645.py:5: RuntimeWarning: divide by zero encountered in true_divide\n",
      "  np.divide(a,b)\n",
      "C:\\Users\\RFAT~1\\AppData\\Local\\Temp/ipykernel_5912/268672645.py:5: RuntimeWarning: invalid value encountered in true_divide\n",
      "  np.divide(a,b)\n"
     ]
    },
    {
     "data": {
      "text/plain": [
       "array([[       nan, 1.        , 1.        , 1.        ],\n",
       "       [       inf, 5.        , 3.        , 2.33333333]])"
      ]
     },
     "execution_count": 133,
     "metadata": {},
     "output_type": "execute_result"
    }
   ],
   "source": [
    "a=np.arange(0,8,1).reshape(2,4)\n",
    "print(a,\"\\n\")\n",
    "b=np.arange(4)\n",
    "print(b)\n",
    "np.divide(a,b)"
   ]
  },
  {
   "cell_type": "code",
   "execution_count": 134,
   "id": "56eafd49",
   "metadata": {},
   "outputs": [
    {
     "data": {
      "text/plain": [
       "(1, 5)"
      ]
     },
     "execution_count": 134,
     "metadata": {},
     "output_type": "execute_result"
    }
   ],
   "source": [
    "np.shape([[3,4,6,7,1]])"
   ]
  },
  {
   "cell_type": "code",
   "execution_count": 136,
   "id": "63bf6c6b",
   "metadata": {},
   "outputs": [
    {
     "data": {
      "text/plain": [
       "array([[[-2.  ,  1.  ],\n",
       "        [ 1.5 , -0.5 ]],\n",
       "\n",
       "       [[-1.25,  0.75],\n",
       "        [ 0.75, -0.25]]])"
      ]
     },
     "execution_count": 136,
     "metadata": {},
     "output_type": "execute_result"
    }
   ],
   "source": [
    "a = [[[1., 2.], [3., 4.]],\n",
    "     [[1, 3], [3, 5]]]\n",
    "inv(a)"
   ]
  },
  {
   "cell_type": "code",
   "execution_count": 137,
   "id": "f6cf758e",
   "metadata": {},
   "outputs": [
    {
     "name": "stdout",
     "output_type": "stream",
     "text": [
      "10\n",
      "1\n",
      "2.0\n",
      "18\n",
      "1\n",
      "27\n",
      "4\n"
     ]
    }
   ],
   "source": [
    "print(5+5)\n",
    "print(5-4)\n",
    "print(6/3)\n",
    "print(9*2)\n",
    "print(9//5)\n",
    "print(3**3)\n",
    "print(9%5)"
   ]
  },
  {
   "cell_type": "code",
   "execution_count": 1,
   "id": "b75d5399",
   "metadata": {},
   "outputs": [
    {
     "name": "stdout",
     "output_type": "stream",
     "text": [
      "Please enter your age:15\n",
      "you can't\n"
     ]
    }
   ],
   "source": [
    "x=int(input(\"Please enter your age:\"))\n",
    "\n",
    "if x>=18 and x<=30:\n",
    "    print(\"you can take it\")\n",
    "else:\n",
    "    print(\"you can't\")\n",
    "    "
   ]
  },
  {
   "cell_type": "code",
   "execution_count": 8,
   "id": "d01018c2",
   "metadata": {},
   "outputs": [
    {
     "data": {
      "text/plain": [
       "['hello', 'nasıl']"
      ]
     },
     "execution_count": 8,
     "metadata": {},
     "output_type": "execute_result"
    }
   ],
   "source": [
    "def low(a,b,c):\n",
    "    lowerWords=[]\n",
    "    if a.islower()==True:\n",
    "        lowerWords.append(a)\n",
    "    if b.islower()==True:\n",
    "        lowerWords.append(b)\n",
    "    if c.islower()==True:\n",
    "        lowerWords.append(c)\n",
    "    return lowerWords\n",
    "\n",
    "low(\"hello\",\"Selam\",\"nasıl\")"
   ]
  },
  {
   "cell_type": "code",
   "execution_count": 14,
   "id": "90ec3aa8",
   "metadata": {},
   "outputs": [
    {
     "name": "stdout",
     "output_type": "stream",
     "text": [
      "[ 0 ,   1 ,   2 ]\n",
      "[ 0 ,   1 ,   2 ]\n",
      "[ 0 ,   1 ,   2 ]\n"
     ]
    }
   ],
   "source": [
    "a=[]\n",
    "b=[]\n",
    "for i in range(0,3):\n",
    "    for j in range(0,3):\n",
    "        a.append(j)\n",
    "    b.append(a)\n",
    "    a=[]\n",
    "for i in b:\n",
    "    print(\" \".join(str(i)))"
   ]
  },
  {
   "cell_type": "code",
   "execution_count": null,
   "id": "fada234c",
   "metadata": {},
   "outputs": [],
   "source": []
  }
 ],
 "metadata": {
  "kernelspec": {
   "display_name": "Python 3 (ipykernel)",
   "language": "python",
   "name": "python3"
  },
  "language_info": {
   "codemirror_mode": {
    "name": "ipython",
    "version": 3
   },
   "file_extension": ".py",
   "mimetype": "text/x-python",
   "name": "python",
   "nbconvert_exporter": "python",
   "pygments_lexer": "ipython3",
   "version": "3.9.7"
  }
 },
 "nbformat": 4,
 "nbformat_minor": 5
}
